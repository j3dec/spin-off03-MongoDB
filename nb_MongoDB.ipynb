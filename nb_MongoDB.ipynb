{
 "cells": [
  {
   "cell_type": "markdown",
   "metadata": {},
   "source": [
    "### Mongo Shell Commands"
   ]
  },
  {
   "cell_type": "markdown",
   "metadata": {},
   "source": [
    "```sql\n",
    "show dbs            // Pour visualiser les différentes databases\n",
    "use dbname          // Pour aller sur une database particulière\n",
    "show collections    // Pour visualiser les collections de la database\n",
    "db.dropDatabase()   // Supprime la database\n",
    "\n",
    "// Ajouter des enregistrements\n",
    "db.dbname.insert({\"key\":\"value\",\"key2\":\"value2\",\"key3\":\"value3\"})\n",
    "--> Deprecated in major driver : use insertOne() OR insertMany\n",
    "\n",
    "db.dbname.find()            // Affiche les enregistrements\n",
    "db.dbname.find().pretty()   //Affichage plus lisible\n",
    "db.dbnae.find().sort({\"key\":1)\n",
    "db.dbname.remove({\"\"})      //Supprime un élément du document\n",
    "\n",
    "db.dbname.update({\"key\":\"value\"}, {$set:{\"\"}});  \n",
    "db.dbname.update({\"key\":\"value\"}, {$unset:{\"...\"}})\n",
    "\n",
    "// Opérateurs\n",
    "$or\n",
    "$and\n",
    "$lt // lesser than\n",
    "$gt //greater than\n",
    "\n",
    "```"
   ]
  },
  {
   "cell_type": "markdown",
   "metadata": {},
   "source": [
    "### Pymongo"
   ]
  },
  {
   "cell_type": "code",
   "execution_count": 1,
   "metadata": {},
   "outputs": [
    {
     "name": "stdout",
     "output_type": "stream",
     "text": [
      "{'_id': ObjectId('5fdb3a2fd970d7826aac4b71'), 'movieId': '1', 'title': 'Toy Story (1995)', 'genres': 'Adventure|Animation|Children|Comedy|Fantasy'}\n"
     ]
    }
   ],
   "source": [
    "import csv\n",
    "import json\n",
    "from pymongo import MongoClient\n",
    "import pprint\n",
    "\n",
    "def lire_csv_dict(filename):\n",
    "    data = []\n",
    "    with open(filename, newline='', encoding='utf-8') as csvfile:\n",
    "        reader = csv.DictReader(csvfile)\n",
    "        for row in reader:\n",
    "            data.append(row)\n",
    "    return data\n",
    "\n",
    "\n",
    "movies_list = lire_csv_dict(\"CSV/movies.csv\")\n",
    "\n",
    "try:\n",
    "    client = MongoClient(\"mongodb://localhost:27017/\")\n",
    "\n",
    "    # Database & Collection (create & switch)\n",
    "    db = client[\"floupics\"]\n",
    "    collection = db[\"Movies\"]\n",
    "\n",
    "    # Insère les données du dictionnaire dans la collection\n",
    "    collection.insert_many(movies_list)\n",
    "    \n",
    "    #Affichage de la première ligne\n",
    "    display_one = collection.find_one()\n",
    "    print(display_one)\n",
    "    \n",
    "except:\n",
    "    print(\"Problème lors de la création de la base de donnée\")"
   ]
  },
  {
   "cell_type": "markdown",
   "metadata": {},
   "source": [
    "![img](IMG/floupics_mongo.PNG)"
   ]
  }
 ],
 "metadata": {
  "kernelspec": {
   "display_name": "Python 3",
   "language": "python",
   "name": "python3"
  },
  "language_info": {
   "codemirror_mode": {
    "name": "ipython",
    "version": 3
   },
   "file_extension": ".py",
   "mimetype": "text/x-python",
   "name": "python",
   "nbconvert_exporter": "python",
   "pygments_lexer": "ipython3",
   "version": "3.8.6"
  }
 },
 "nbformat": 4,
 "nbformat_minor": 4
}
